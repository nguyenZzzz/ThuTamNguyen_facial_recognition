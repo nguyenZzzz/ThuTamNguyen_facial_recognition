{
 "cells": [
  {
   "cell_type": "code",
   "execution_count": 4,
   "source": [
    "import cv2\n",
    "import matplotlib.pyplot as plt\n",
    "import numpy as np\n",
    "import tensorflow as tf\n"
   ],
   "outputs": [
    {
     "output_type": "stream",
     "name": "stderr",
     "text": [
      "2021-09-25 20:18:53.938548: W tensorflow/stream_executor/platform/default/dso_loader.cc:64] Could not load dynamic library 'libcudart.so.11.0'; dlerror: libcudart.so.11.0: cannot open shared object file: No such file or directory\n",
      "2021-09-25 20:18:53.938612: I tensorflow/stream_executor/cuda/cudart_stub.cc:29] Ignore above cudart dlerror if you do not have a GPU set up on your machine.\n"
     ]
    }
   ],
   "metadata": {}
  },
  {
   "cell_type": "markdown",
   "source": [
    "# Yolo model"
   ],
   "metadata": {}
  },
  {
   "cell_type": "code",
   "execution_count": 5,
   "source": [
    "MODEL = '/home/tamtran/Documents/GitHub/ThuTamNguyen_facial_recognition/yolo/yolov3-face.cfg'\n",
    "WEIGHT = '/home/tamtran/Documents/GitHub/ThuTamNguyen_facial_recognition/yolo/yolov3-wider_16000.weights'\n",
    "\n",
    "net = cv2.dnn.readNetFromDarknet(MODEL, WEIGHT)\n",
    "net.setPreferableBackend(cv2.dnn.DNN_BACKEND_OPENCV)\n",
    "net.setPreferableTarget(cv2.dnn.DNN_TARGET_CPU)"
   ],
   "outputs": [],
   "metadata": {}
  },
  {
   "cell_type": "markdown",
   "source": [
    "# Face detection "
   ],
   "metadata": {}
  },
  {
   "cell_type": "code",
   "execution_count": 4,
   "source": [
    "import datetime\n",
    "\n",
    "str(datetime.datetime.now())"
   ],
   "outputs": [
    {
     "output_type": "execute_result",
     "data": {
      "text/plain": [
       "'2021-09-25 11:40:19.312593'"
      ]
     },
     "metadata": {},
     "execution_count": 4
    }
   ],
   "metadata": {}
  },
  {
   "cell_type": "code",
   "execution_count": 5,
   "source": [
    "import datetime\n",
    "\n",
    "cap = cv2.VideoCapture(0) \n",
    "\n",
    "# Check if the webcam is opened correctly\n",
    "if not cap.isOpened():\n",
    "    raise IOError(\"Cannot open webcam\")\n",
    "\n",
    "while True:\n",
    "    ret, frame = cap.read()\n",
    "\n",
    "    # frame is now the image capture by the webcam (one frame of the video)\n",
    "    # cv2.imshow('Input', frame)\n",
    "\n",
    "    ###################################################################################\n",
    "                                    # Prediction face #\n",
    "    # Face detection:\n",
    "    IMG_WIDTH, IMG_HEIGHT = 416,416\n",
    "\n",
    "    # Convert image to blob:\n",
    "    blob = cv2.dnn.blobFromImage(frame,\n",
    "                                1/255,\n",
    "                                (IMG_WIDTH, IMG_HEIGHT),\n",
    "                                [0,0,0],\n",
    "                                True,\n",
    "                                crop=False)\n",
    "    # print('blob image shape: {}'.format(blob.shape))\n",
    "\n",
    "    # Set model input:\n",
    "    net.setInput(blob)\n",
    "\n",
    "    # Get output layers:\n",
    "    output_layers = net.getUnconnectedOutLayersNames()\n",
    "\n",
    "    # Prediction!\n",
    "    # outs = net.forward()\n",
    "    outs = net.forward(output_layers)\n",
    "\n",
    "    ###################################################################################\n",
    "                                # Get Bounding box info #\n",
    "\n",
    "    # frame = image\n",
    "    frame_height = frame.shape[0]\n",
    "    frame_width = frame.shape[1]\n",
    "\n",
    "    # Scan through all the bounding boxes output from the network and keep only\n",
    "    # the ones with high confidence scores. Assign the box's class label as the\n",
    "    # class with the highest score.\n",
    "\n",
    "    confidences = []\n",
    "    boxes = []\n",
    "\n",
    "    # Each frame produces 3 outs corresponding to 3 output layers\n",
    "    for out in outs: # Outs chứa tập hợp những bounding box của 3 layers (52x52, 26x26, 13x13)\n",
    "            # One out has multiple predictions for multiple captured objects.\n",
    "        for detection in out: # trong out chứa [x,y,w,h,có object hay k, độ chắc chắn]\n",
    "            confidence = detection[-1]\n",
    "            # Extract position data of face area (only area with high confidence)\n",
    "            if confidence > 0.5:\n",
    "                center_x = int(detection[0] * frame_width)\n",
    "                center_y = int(detection[1] * frame_height)\n",
    "                width = int(detection[2] * frame_width)\n",
    "                height = int(detection[3] * frame_height)\n",
    "\n",
    "                # Find the top left point of the bounding box \n",
    "                topleft_x = center_x - width/2\n",
    "                topleft_y = center_y - height/2\n",
    "                confidences.append(float(confidence))\n",
    "                boxes.append([topleft_x, topleft_y, width, height])\n",
    "\n",
    "    # Perform non-maximum suppression to eliminate \n",
    "    # redundant overlapping boxes with lower confidences.\n",
    "    indices = cv2.dnn.NMSBoxes(boxes, confidences, 0.5, 0.4)\n",
    "\n",
    "    ###################################################################################\n",
    "                                # Drawing BB #\n",
    "        \n",
    "    result = frame.copy()\n",
    "    final_boxes = []\n",
    "    for i in indices:\n",
    "        i = i[0]\n",
    "        box = boxes[i]\n",
    "        final_boxes.append(box)\n",
    "\n",
    "        # Extract position data\n",
    "        tl_x = int(box[0])\n",
    "        tl_y= int(box[1])\n",
    "        width = int(box[2])\n",
    "        height = int(box[3])\n",
    "\n",
    "        # print (tl_x, tl_y, width, height)\n",
    "        # Draw bouding box with the above measurements\n",
    "        cv2.rectangle(result, \n",
    "                    (tl_x, tl_y), \n",
    "                    ((tl_x+width), (tl_y+height)), \n",
    "                    (0,0,0), 2)\n",
    "        \n",
    "        # Display text about confidence rate above each box\n",
    "        confidence = f'{confidences[i]:.2f}'\n",
    "        cv2.putText(result, confidence, (tl_x,tl_y), cv2.FONT_HERSHEY_SIMPLEX, 1, (0), 3)\n",
    "\n",
    "    # Display text about number of detected faces on topleft corner\n",
    "    cv2.putText(result, f'number of face detected: {len(final_boxes)}', (0,50), cv2.FONT_HERSHEY_SIMPLEX, 1, (0), 3)\n",
    "    \n",
    "    result_rs = cv2.resize(result, (640,480))\n",
    "\n",
    "    cv2.imshow('Face Detection', result_rs)\n",
    "\n",
    "    # Keyboard\n",
    "    c = cv2.waitKey(1)\n",
    "\t# Break when pressing ESC\n",
    "    if c == 27:\n",
    "        break\n",
    "\n",
    "    if c == 32:\n",
    "        time_now = str(datetime.datetime.now())\n",
    "        img_name = time_now+'.png'\n",
    "        cv2.imwrite(img_name, result_rs)\n",
    "        # break\n",
    "\n",
    "cap.release()\n",
    "cv2.destroyAllWindows()"
   ],
   "outputs": [],
   "metadata": {}
  },
  {
   "cell_type": "code",
   "execution_count": 9,
   "source": [
    "cap.release()\n",
    "cv2.destroyAllWindows()"
   ],
   "outputs": [],
   "metadata": {}
  },
  {
   "cell_type": "markdown",
   "source": [
    "# Take pictures"
   ],
   "metadata": {}
  },
  {
   "cell_type": "code",
   "execution_count": 16,
   "source": [
    "import cv2\n",
    "import datetime\n",
    "\n",
    "cap = cv2.VideoCapture(1)\n",
    "count = 0\n",
    "\n",
    "# Check if the webcam is opened correctly\n",
    "if not cap.isOpened():\n",
    "    raise IOError(\"Cannot open webcam\")\n",
    "\n",
    "while True:\n",
    "    ret, frame = cap.read()\n",
    "\n",
    "    # frame is now the image capture by the webcam (one frame of the video)\n",
    "    cv2.imshow('Input', frame)\n",
    "\n",
    "    c = cv2.waitKey(1)\n",
    "\t\t# Break when pressing ESC\n",
    "    if c == 27:\n",
    "        break\n",
    "\n",
    "    # Take picture:\n",
    "    if c == 32:\n",
    "        time_now = str(datetime.datetime.now())\n",
    "        img_name = time_now+'.png'\n",
    "        cv2.imwrite(img_name, frame)\n",
    "        count = count+1\n",
    "        print(f'image number: {count}')\n",
    "cap.release()\n",
    "cv2.destroyAllWindows()"
   ],
   "outputs": [],
   "metadata": {}
  },
  {
   "cell_type": "markdown",
   "source": [
    "# Crop Face"
   ],
   "metadata": {}
  },
  {
   "cell_type": "code",
   "execution_count": 7,
   "source": [
    "# got all image paths:\n",
    "import glob\n",
    "\n",
    "all_image_path = glob.glob('/home/tamtran/Documents/GitHub/ThuTamNguyen_facial_recognition/Data/Tam/draft_photos/*.png')\n",
    "all_image_path[:5]"
   ],
   "outputs": [
    {
     "output_type": "execute_result",
     "data": {
      "text/plain": [
       "[]"
      ]
     },
     "metadata": {},
     "execution_count": 7
    }
   ],
   "metadata": {}
  },
  {
   "cell_type": "code",
   "execution_count": 8,
   "source": [
    "crop_dir = '/home/tamtran/Documents/GitHub/ThuTamNguyen_facial_recognition/Data/Tam/crop_images'"
   ],
   "outputs": [],
   "metadata": {}
  },
  {
   "cell_type": "code",
   "execution_count": 9,
   "source": [
    "# Face detection:\n",
    "import os\n",
    "import datetime\n",
    "\n",
    "def face_crop(frame):\n",
    "    IMG_WIDTH, IMG_HEIGHT = 416,416\n",
    "    count = 0\n",
    "    # Convert image to blob:\n",
    "    blob = cv2.dnn.blobFromImage(frame,\n",
    "                                1/255,\n",
    "                                (IMG_WIDTH, IMG_HEIGHT),\n",
    "                                [0,0,0],\n",
    "                                True,\n",
    "                                crop=False)\n",
    "    # print('blob image shape: {}'.format(blob.shape))\n",
    "\n",
    "    # Set model input:\n",
    "    net.setInput(blob)\n",
    "\n",
    "    # Get output layers:\n",
    "    output_layers = net.getUnconnectedOutLayersNames()\n",
    "\n",
    "    # Prediction!\n",
    "    # outs = net.forward()\n",
    "    outs = net.forward(output_layers)\n",
    "\n",
    "    ###################################################################################\n",
    "                                # Get Bounding box info #\n",
    "\n",
    "    # frame = image\n",
    "    frame_height = frame.shape[0]\n",
    "    frame_width = frame.shape[1]\n",
    "\n",
    "    # Scan through all the bounding boxes output from the network and keep only\n",
    "    # the ones with high confidence scores. Assign the box's class label as the\n",
    "    # class with the highest score.\n",
    "\n",
    "    confidences = []\n",
    "    boxes = []\n",
    "\n",
    "    # Each frame produces 3 outs corresponding to 3 output layers\n",
    "    for out in outs: # Outs chứa tập hợp những bounding box của 3 layers (52x52, 26x26, 13x13)\n",
    "            # One out has multiple predictions for multiple captured objects.\n",
    "        for detection in out: # trong out chứa [x,y,w,h,có object hay k, độ chắc chắn]\n",
    "            confidence = detection[-1]\n",
    "            # Extract position data of face area (only area with high confidence)\n",
    "            if confidence > 0.5:\n",
    "                center_x = int(detection[0] * frame_width)\n",
    "                center_y = int(detection[1] * frame_height)\n",
    "                width = int(detection[2] * frame_width)\n",
    "                height = int(detection[3] * frame_height)\n",
    "\n",
    "                # Find the top left point of the bounding box \n",
    "                topleft_x = center_x - width/2\n",
    "                topleft_y = center_y - height/2\n",
    "                confidences.append(float(confidence))\n",
    "                boxes.append([topleft_x, topleft_y, width, height])\n",
    "\n",
    "    # Perform non-maximum suppression to eliminate \n",
    "    # redundant overlapping boxes with lower confidences.\n",
    "    indices = cv2.dnn.NMSBoxes(boxes, confidences, 0.5, 0.4)\n",
    "\n",
    "    ###################################################################################\n",
    "                                # Drawing BB #\n",
    "        \n",
    "    result = frame.copy()\n",
    "    final_boxes = []\n",
    "    for i in indices:\n",
    "        i = i[0]\n",
    "        box = boxes[i]\n",
    "        final_boxes.append(box)\n",
    "\n",
    "        # Extract position data\n",
    "        tl_x = int(box[0])\n",
    "        tl_y= int(box[1])\n",
    "        width = int(box[2])\n",
    "        height = int(box[3])\n",
    "\n",
    "        print (tl_x, tl_y, width, height)\n",
    "        l = 3\n",
    "        \n",
    "        # CROP IMAGE:\n",
    "        crop_img = frame[tl_y-l:tl_y+height+l , tl_x-l:tl_x+width+l]\n",
    "        # save crop image:\n",
    "        time_now = datetime.datetime.now()\n",
    "        img_name = str(time_now) + '.png'\n",
    "        cv2.imwrite(os.path.join(crop_dir, img_name), crop_img)\n",
    "        count += 1\n"
   ],
   "outputs": [],
   "metadata": {}
  },
  {
   "cell_type": "code",
   "execution_count": 10,
   "source": [
    "for img_path in all_image_path:\n",
    "    image = cv2.imread(img_path)\n",
    "    face_crop(image)"
   ],
   "outputs": [],
   "metadata": {}
  },
  {
   "cell_type": "markdown",
   "source": [
    "# Face Recognition with VGG16"
   ],
   "metadata": {}
  },
  {
   "cell_type": "markdown",
   "source": [
    "## Load model"
   ],
   "metadata": {}
  },
  {
   "cell_type": "code",
   "execution_count": 17,
   "source": [
    "import cv2\n",
    "import matplotlib.pyplot as plt\n",
    "import numpy as np\n",
    "import tensorflow as tf"
   ],
   "outputs": [
    {
     "output_type": "stream",
     "name": "stderr",
     "text": [
      "2021-09-26 10:42:48.251459: W tensorflow/stream_executor/platform/default/dso_loader.cc:64] Could not load dynamic library 'libcudart.so.11.0'; dlerror: libcudart.so.11.0: cannot open shared object file: No such file or directory\n",
      "2021-09-26 10:42:48.251508: I tensorflow/stream_executor/cuda/cudart_stub.cc:29] Ignore above cudart dlerror if you do not have a GPU set up on your machine.\n"
     ]
    }
   ],
   "metadata": {}
  },
  {
   "cell_type": "code",
   "execution_count": 18,
   "source": [
    "IMG_SIZE = (224,224)\n",
    "BATCH_SIZE = 32\n",
    "SEED = 96"
   ],
   "outputs": [],
   "metadata": {}
  },
  {
   "cell_type": "code",
   "execution_count": 19,
   "source": [
    "## Load model:\n",
    "# VGG16\n",
    "# model = tf.keras.models.load_model('/home/tamtran/Documents/GitHub/ThuTamNguyen_facial_recognition/model/FR_Vgg16.h5')\n",
    "\n",
    "# EfficientNetB1\n",
    "# model = tf.keras.models.load_model('/home/tamtran/Documents/GitHub/ThuTamNguyen_facial_recognition/model/EfficientNetB1.h5')\n",
    "\n",
    "# FR_MobileNetV2\n",
    "# model = tf.keras.models.load_model('/home/tamtran/Documents/GitHub/ThuTamNguyen_facial_recognition/model/FR_MobileNetV2.h5')\n",
    "\n",
    "# ResNet50v2\n",
    "model = tf.keras.models.load_model('/home/tamtran/Documents/GitHub/ThuTamNguyen_facial_recognition/model/ResNet50v2.h5')\n",
    "\n",
    "# Show the model architecture\n",
    "model.summary()\n",
    "\n",
    "# We need to define its optimizer and loss function again since the h5 file\n",
    "# does not contain those information :(\n",
    "model.compile(optimizer='adam',\n",
    "              loss='sparse_categorical_crossentropy',\n",
    "              metrics=['accuracy'])"
   ],
   "outputs": [
    {
     "output_type": "stream",
     "name": "stderr",
     "text": [
      "2021-09-26 10:43:02.011561: W tensorflow/stream_executor/platform/default/dso_loader.cc:64] Could not load dynamic library 'libcuda.so.1'; dlerror: libcuda.so.1: cannot open shared object file: No such file or directory\n",
      "2021-09-26 10:43:02.011614: W tensorflow/stream_executor/cuda/cuda_driver.cc:269] failed call to cuInit: UNKNOWN ERROR (303)\n",
      "2021-09-26 10:43:02.011660: I tensorflow/stream_executor/cuda/cuda_diagnostics.cc:156] kernel driver does not appear to be running on this host (TranTran): /proc/driver/nvidia/version does not exist\n"
     ]
    },
    {
     "output_type": "stream",
     "name": "stdout",
     "text": [
      "Model: \"model_3\"\n",
      "_________________________________________________________________\n",
      "Layer (type)                 Output Shape              Param #   \n",
      "=================================================================\n",
      "input_9 (InputLayer)         [(None, 224, 224, 3)]     0         \n",
      "_________________________________________________________________\n",
      "tf.math.truediv_1 (TFOpLambd (None, 224, 224, 3)       0         \n",
      "_________________________________________________________________\n",
      "tf.math.subtract_1 (TFOpLamb (None, 224, 224, 3)       0         \n",
      "_________________________________________________________________\n",
      "resnet50v2 (Functional)      (None, 7, 7, 2048)        23564800  \n",
      "_________________________________________________________________\n",
      "global_average_pooling2d_3 ( (None, 2048)              0         \n",
      "_________________________________________________________________\n",
      "dense_3 (Dense)              (None, 3)                 6147      \n",
      "=================================================================\n",
      "Total params: 23,570,947\n",
      "Trainable params: 6,147\n",
      "Non-trainable params: 23,564,800\n",
      "_________________________________________________________________\n"
     ]
    }
   ],
   "metadata": {}
  },
  {
   "cell_type": "code",
   "execution_count": 20,
   "source": [
    "# YOLO\n",
    "MODEL = '/home/tamtran/Documents/GitHub/ThuTamNguyen_facial_recognition/yolo/yolov3-face.cfg'\n",
    "WEIGHT = '/home/tamtran/Documents/GitHub/ThuTamNguyen_facial_recognition/yolo/yolov3-wider_16000.weights'\n",
    "net = cv2.dnn.readNetFromDarknet(MODEL, WEIGHT)\n",
    "net.setPreferableBackend(cv2.dnn.DNN_BACKEND_OPENCV)\n",
    "net.setPreferableTarget(cv2.dnn.DNN_TARGET_CPU)"
   ],
   "outputs": [],
   "metadata": {}
  },
  {
   "cell_type": "code",
   "execution_count": 21,
   "source": [
    "def get_top_prediction(prediction, top, class_names):\n",
    "    '''\n",
    "    return a tuple have: top_confidence, top_id, top_class_names\n",
    "    '''\n",
    "    for i in range(top):\n",
    "        top_confidence = list(np.sort(prediction)[0][::-1])[:top]\n",
    "        top_id = list(np.argsort(prediction, axis=1)[0][::-1])[:top]\n",
    "        top_class_names = [class_names[id] for id in top_id]\n",
    "\n",
    "    return top_confidence, top_id, top_class_names\n"
   ],
   "outputs": [],
   "metadata": {}
  },
  {
   "cell_type": "code",
   "execution_count": 22,
   "source": [
    "\n",
    "# Face detection:\n",
    "import os\n",
    "import datetime\n",
    "class_names = ['Nguyen', 'Tam', 'Thu']\n",
    "\n",
    "def face_prediction(frame):\n",
    "    IMG_WIDTH, IMG_HEIGHT = 416,416\n",
    "    count = 0\n",
    "    # Convert image to blob:\n",
    "    blob = cv2.dnn.blobFromImage(frame,\n",
    "                                1/255,\n",
    "                                (IMG_WIDTH, IMG_HEIGHT),\n",
    "                                [0,0,0],\n",
    "                                True,\n",
    "                                crop=False)\n",
    "    # Set model input:\n",
    "    net.setInput(blob)\n",
    "\n",
    "    # Get output layers:\n",
    "    output_layers = net.getUnconnectedOutLayersNames()\n",
    "   \n",
    "    # Prediction!\n",
    "    outs = net.forward(output_layers)\n",
    "\n",
    "    ###################################################################################\n",
    "                                # Get Bounding box info #\n",
    "\n",
    "    frame_height = frame.shape[0]\n",
    "    frame_width = frame.shape[1]\n",
    "\n",
    "    # Scan through all the bounding boxes output from the network and keep only\n",
    "    # the ones with high confidence scores. Assign the box's class label as the\n",
    "    # class with the highest score.\n",
    "\n",
    "    confidences = []\n",
    "    boxes = []\n",
    "\n",
    "    # Each frame produces 3 outs corresponding to 3 output layers\n",
    "    for out in outs: # Outs chứa tập hợp những bounding box của 3 layers (52x52, 26x26, 13x13)\n",
    "            # One out has multiple predictions for multiple captured objects.\n",
    "        for detection in out: # trong out chứa [x,y,w,h,có object hay k, độ chắc chắn]\n",
    "            confidence = detection[-1]\n",
    "            # Extract position data of face area (only area with high confidence)\n",
    "            if confidence > 0.5:\n",
    "                center_x = int(detection[0] * frame_width)\n",
    "                center_y = int(detection[1] * frame_height)\n",
    "                width = int(detection[2] * frame_width)\n",
    "                height = int(detection[3] * frame_height)\n",
    "\n",
    "                # Find the top left point of the bounding box \n",
    "                topleft_x = center_x - width/2\n",
    "                topleft_y = center_y - height/2\n",
    "                confidences.append(float(confidence))\n",
    "                boxes.append([topleft_x, topleft_y, width, height])\n",
    "\n",
    "    # Perform non-maximum suppression to eliminate \n",
    "    # redundant overlapping boxes with lower confidences.\n",
    "    indices = cv2.dnn.NMSBoxes(boxes, confidences, 0.5, 0.4)\n",
    "\n",
    "    ###################################################################################\n",
    "                                # Drawing BB #\n",
    "    result = frame.copy()\n",
    "    final_boxes = []\n",
    "    for i in indices:\n",
    "        i = i[0]\n",
    "        box = boxes[i]\n",
    "        final_boxes.append(box)\n",
    "\n",
    "        # Extract position data\n",
    "        tl_x = int(box[0])\n",
    "        tl_y= int(box[1])\n",
    "        width = int(box[2])\n",
    "        height = int(box[3])\n",
    "\n",
    "        # print (tl_x, tl_y, width, height)\n",
    "        \n",
    "        # CROP IMAGE:\n",
    "        l = 3\n",
    "        crop_img = frame[tl_y-l:tl_y+height+l , tl_x-l:tl_x+width+l]\n",
    "        \n",
    "        # PREDICT:\n",
    "        crop_img = cv2.resize(crop_img, IMG_SIZE)\n",
    "        crop_img = cv2.cvtColor(crop_img, cv2.COLOR_BGR2RGB)\n",
    "        crop_img = tf.expand_dims(crop_img, axis=0)\n",
    "        \n",
    "        prediction = model.predict(crop_img)\n",
    "        \n",
    "        # GET TOP PREDICTION:\n",
    "        confidence, _, class_name = get_top_prediction(prediction=prediction, top=1, class_names=class_names)\n",
    "\n",
    "        # DRAW RECTANGLE:\n",
    "        offset = 5\n",
    "        cv2.rectangle(frame, \n",
    "                (tl_x-offset, tl_y-offset), \n",
    "                ((tl_x+width+offset), (tl_y+height+offset)), \n",
    "                (0,0,0), 2)\n",
    "        \n",
    "        # DISPLAY TEXT:\n",
    "        class_text = f'{class_name[0]} - {np.round(confidence[0], 2)}'\n",
    "        l = 10\n",
    "        cv2.putText(frame, class_text, (tl_x-l, tl_y-l), cv2.FONT_HERSHEY_SIMPLEX, 1, (0,255,0), 2)\n",
    "\n",
    "    return frame\n"
   ],
   "outputs": [],
   "metadata": {}
  },
  {
   "cell_type": "markdown",
   "source": [
    "## Webcam"
   ],
   "metadata": {}
  },
  {
   "cell_type": "code",
   "execution_count": 24,
   "source": [
    "cap = cv2.VideoCapture(1)\n",
    "count = 0\n",
    "\n",
    "# Check if the webcam is opened correctly\n",
    "if not cap.isOpened():\n",
    "    raise IOError(\"Cannot open webcam\")\n",
    "\n",
    "while True:\n",
    "    ret, frame = cap.read()\n",
    "\n",
    "    # frame is now the image capture by the webcam (one frame of the video)\n",
    "\n",
    "    c = cv2.waitKey(1)\n",
    "\t\t# Break when pressing ESC\n",
    "    if c == 27:\n",
    "        break\n",
    "\n",
    "    # Take picture:\n",
    "    if c == 32:\n",
    "        time_now = str(datetime.datetime.now())\n",
    "        img_name = time_now+'.png'\n",
    "        cv2.imwrite(img_name, frame)\n",
    "        count = count+1\n",
    "        print(f'image number: {count}')\n",
    "\n",
    "    frame = face_prediction(frame)\n",
    "\n",
    "    cv2.imshow('Input', frame)\n",
    "\n",
    "cap.release()\n",
    "cv2.destroyAllWindows()"
   ],
   "outputs": [
    {
     "output_type": "stream",
     "name": "stderr",
     "text": [
      "2021-09-26 10:43:40.919252: I tensorflow/compiler/mlir/mlir_graph_optimization_pass.cc:185] None of the MLIR Optimization Passes are enabled (registered 2)\n"
     ]
    }
   ],
   "metadata": {}
  }
 ],
 "metadata": {
  "orig_nbformat": 4,
  "language_info": {
   "name": "python",
   "version": "3.8.12",
   "mimetype": "text/x-python",
   "codemirror_mode": {
    "name": "ipython",
    "version": 3
   },
   "pygments_lexer": "ipython3",
   "nbconvert_exporter": "python",
   "file_extension": ".py"
  },
  "kernelspec": {
   "name": "python3",
   "display_name": "Python 3.8.12 64-bit ('ml30': conda)"
  },
  "interpreter": {
   "hash": "4db52bee2af76bd8038e1ea14241f17027571b78eb272cc5750ae92115385bed"
  }
 },
 "nbformat": 4,
 "nbformat_minor": 2
}